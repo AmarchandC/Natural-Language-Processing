{
  "nbformat": 4,
  "nbformat_minor": 0,
  "metadata": {
    "colab": {
      "provenance": []
    },
    "kernelspec": {
      "name": "python3",
      "display_name": "Python 3"
    },
    "language_info": {
      "name": "python"
    }
  },
  "cells": [
    {
      "cell_type": "code",
      "execution_count": null,
      "metadata": {
        "id": "HVpW4szulPL2"
      },
      "outputs": [],
      "source": [
        "import json\n",
        "import tensorflow as tf\n",
        "\n",
        "from tensorflow.keras.preprocessing.text import Tokenizer\n",
        "from tensorflow.keras.preprocessing.sequence import pad_sequences"
      ]
    },
    {
      "cell_type": "code",
      "source": [
        "vocab_size = 10000\n",
        "embedding_dim = 16\n",
        "max_length = 100\n",
        "trunc_type='post'\n",
        "padding_type='post'\n",
        "oov_tok = \"<OOV>\"\n",
        "training_size = 20000"
      ],
      "metadata": {
        "id": "u1rTtH9Ylxkx"
      },
      "execution_count": null,
      "outputs": []
    },
    {
      "cell_type": "code",
      "source": [
        "!wget --no-check-certificate \\\n",
        "    https://storage.googleapis.com/learning-datasets/sarcasm.json \\\n",
        "    -O /tmp/sarcasm.json"
      ],
      "metadata": {
        "colab": {
          "base_uri": "https://localhost:8080/"
        },
        "id": "v6t2Y63jl0rs",
        "outputId": "c5dc8f68-65e3-4ac0-91dd-b8c61d252511"
      },
      "execution_count": null,
      "outputs": [
        {
          "output_type": "stream",
          "name": "stdout",
          "text": [
            "--2023-08-03 13:30:06--  https://storage.googleapis.com/learning-datasets/sarcasm.json\n",
            "Resolving storage.googleapis.com (storage.googleapis.com)... 142.251.107.128, 74.125.196.128, 74.125.134.128, ...\n",
            "Connecting to storage.googleapis.com (storage.googleapis.com)|142.251.107.128|:443... connected.\n",
            "HTTP request sent, awaiting response... 200 OK\n",
            "Length: 5643545 (5.4M) [application/json]\n",
            "Saving to: ‘/tmp/sarcasm.json’\n",
            "\n",
            "/tmp/sarcasm.json   100%[===================>]   5.38M  --.-KB/s    in 0.04s   \n",
            "\n",
            "2023-08-03 13:30:06 (133 MB/s) - ‘/tmp/sarcasm.json’ saved [5643545/5643545]\n",
            "\n"
          ]
        }
      ]
    },
    {
      "cell_type": "code",
      "source": [
        "with open(\"/tmp/sarcasm.json\", 'r') as f:\n",
        "    datastore = json.load(f)\n",
        "\n",
        "sentences = []\n",
        "labels = []\n",
        "\n",
        "for item in datastore:\n",
        "    sentences.append(item['headline'])\n",
        "    labels.append(item['is_sarcastic'])"
      ],
      "metadata": {
        "id": "0ZB-KO04mGBN"
      },
      "execution_count": null,
      "outputs": []
    },
    {
      "cell_type": "code",
      "execution_count": null,
      "metadata": {
        "id": "S1sD-7v0kYWk"
      },
      "outputs": [],
      "source": [
        "## splitting into training ans testing sentences.\n",
        "\n",
        "training_sentences = sentences[0:training_size]\n",
        "testing_sentences = sentences[training_size:]\n",
        "training_labels = labels[0:training_size]\n",
        "testing_labels = labels[training_size:]"
      ]
    },
    {
      "cell_type": "markdown",
      "source": [
        "**we need the tokenizer to see just the training sentences**"
      ],
      "metadata": {
        "id": "f04WJ7gKnJA-"
      }
    },
    {
      "cell_type": "code",
      "execution_count": null,
      "metadata": {
        "id": "3u8UB0MCkZ5N"
      },
      "outputs": [],
      "source": [
        "tokenizer = Tokenizer(num_words=vocab_size, oov_token=oov_tok)\n",
        "tokenizer.fit_on_texts(training_sentences)\n",
        "\n",
        "word_index = tokenizer.word_index\n",
        "\n",
        "training_sequences = tokenizer.texts_to_sequences(training_sentences)\n",
        "training_padded = pad_sequences(training_sequences, maxlen=max_length, padding=padding_type, truncating=trunc_type)\n",
        "\n",
        "testing_sequences = tokenizer.texts_to_sequences(testing_sentences)\n",
        "testing_padded = pad_sequences(testing_sequences, maxlen=max_length, padding=padding_type, truncating=trunc_type)"
      ]
    },
    {
      "cell_type": "markdown",
      "source": [
        "**Embeddings**\n",
        "\n",
        "\n"
      ],
      "metadata": {
        "id": "MpiMPaapndNp"
      }
    },
    {
      "cell_type": "code",
      "execution_count": null,
      "metadata": {
        "id": "GrAlWBKf99Ya"
      },
      "outputs": [],
      "source": [
        "# Need this block to get it to work with TensorFlow 2.x\n",
        "import numpy as np\n",
        "training_padded = np.array(training_padded)\n",
        "training_labels = np.array(training_labels)\n",
        "testing_padded = np.array(testing_padded)\n",
        "testing_labels = np.array(testing_labels)"
      ]
    },
    {
      "cell_type": "code",
      "source": [],
      "metadata": {
        "colab": {
          "base_uri": "https://localhost:8080/"
        },
        "id": "qYGiaHdNqJ3H",
        "outputId": "95346232-9a60-4ab7-fff1-dbd4673eb6a0"
      },
      "execution_count": null,
      "outputs": [
        {
          "output_type": "execute_result",
          "data": {
            "text/plain": [
              "array([[ 328,    1,  799, ...,    0,    0,    0],\n",
              "       [   4, 6840, 3096, ...,    0,    0,    0],\n",
              "       [ 153,  890,    2, ...,    0,    0,    0],\n",
              "       ...,\n",
              "       [  79, 1729,    1, ...,    0,    0,    0],\n",
              "       [  53, 5108, 4735, ...,    0,    0,    0],\n",
              "       [ 312,  705,    1, ...,    0,    0,    0]], dtype=int32)"
            ]
          },
          "metadata": {},
          "execution_count": 24
        }
      ]
    },
    {
      "cell_type": "code",
      "execution_count": null,
      "metadata": {
        "id": "FufaT4vlkiDE"
      },
      "outputs": [],
      "source": [
        "model = tf.keras.Sequential([\n",
        "    tf.keras.layers.Embedding(vocab_size, embedding_dim, input_length=max_length),\n",
        "    tf.keras.layers.GlobalAveragePooling1D(),\n",
        "    tf.keras.layers.Dense(24, activation='relu'),\n",
        "    tf.keras.layers.Dense(1, activation='sigmoid')\n",
        "])\n",
        "model.compile(loss='binary_crossentropy',optimizer='adam',metrics=['accuracy'])"
      ]
    },
    {
      "cell_type": "code",
      "execution_count": null,
      "metadata": {
        "id": "XfDt1hmYkiys",
        "colab": {
          "base_uri": "https://localhost:8080/"
        },
        "outputId": "3d186e77-7d37-43f1-9438-d54ed4f122de"
      },
      "outputs": [
        {
          "output_type": "stream",
          "name": "stdout",
          "text": [
            "Model: \"sequential\"\n",
            "_________________________________________________________________\n",
            " Layer (type)                Output Shape              Param #   \n",
            "=================================================================\n",
            " embedding (Embedding)       (None, 100, 16)           160000    \n",
            "                                                                 \n",
            " global_average_pooling1d (G  (None, 16)               0         \n",
            " lobalAveragePooling1D)                                          \n",
            "                                                                 \n",
            " dense (Dense)               (None, 24)                408       \n",
            "                                                                 \n",
            " dense_1 (Dense)             (None, 1)                 25        \n",
            "                                                                 \n",
            "=================================================================\n",
            "Total params: 160,433\n",
            "Trainable params: 160,433\n",
            "Non-trainable params: 0\n",
            "_________________________________________________________________\n"
          ]
        }
      ],
      "source": [
        "model.summary()\n"
      ]
    },
    {
      "cell_type": "code",
      "execution_count": null,
      "metadata": {
        "id": "2DTKQFf1kkyc",
        "colab": {
          "base_uri": "https://localhost:8080/"
        },
        "outputId": "334e5ac3-621d-477b-81e9-6eae5216eff1"
      },
      "outputs": [
        {
          "output_type": "stream",
          "name": "stdout",
          "text": [
            "Epoch 1/30\n",
            "625/625 - 7s - loss: 0.6691 - accuracy: 0.5875 - val_loss: 0.6030 - val_accuracy: 0.7663 - 7s/epoch - 12ms/step\n",
            "Epoch 2/30\n",
            "625/625 - 3s - loss: 0.4505 - accuracy: 0.8239 - val_loss: 0.3902 - val_accuracy: 0.8387 - 3s/epoch - 4ms/step\n",
            "Epoch 3/30\n",
            "625/625 - 3s - loss: 0.3196 - accuracy: 0.8720 - val_loss: 0.3582 - val_accuracy: 0.8477 - 3s/epoch - 4ms/step\n",
            "Epoch 4/30\n",
            "625/625 - 3s - loss: 0.2657 - accuracy: 0.8957 - val_loss: 0.3437 - val_accuracy: 0.8568 - 3s/epoch - 4ms/step\n",
            "Epoch 5/30\n",
            "625/625 - 3s - loss: 0.2303 - accuracy: 0.9107 - val_loss: 0.3468 - val_accuracy: 0.8514 - 3s/epoch - 5ms/step\n",
            "Epoch 6/30\n",
            "625/625 - 3s - loss: 0.2029 - accuracy: 0.9218 - val_loss: 0.3486 - val_accuracy: 0.8545 - 3s/epoch - 5ms/step\n",
            "Epoch 7/30\n",
            "625/625 - 3s - loss: 0.1800 - accuracy: 0.9313 - val_loss: 0.3694 - val_accuracy: 0.8495 - 3s/epoch - 4ms/step\n",
            "Epoch 8/30\n",
            "625/625 - 3s - loss: 0.1612 - accuracy: 0.9411 - val_loss: 0.3745 - val_accuracy: 0.8517 - 3s/epoch - 4ms/step\n",
            "Epoch 9/30\n",
            "625/625 - 3s - loss: 0.1475 - accuracy: 0.9456 - val_loss: 0.3880 - val_accuracy: 0.8524 - 3s/epoch - 4ms/step\n",
            "Epoch 10/30\n",
            "625/625 - 3s - loss: 0.1319 - accuracy: 0.9541 - val_loss: 0.4060 - val_accuracy: 0.8512 - 3s/epoch - 6ms/step\n",
            "Epoch 11/30\n",
            "625/625 - 3s - loss: 0.1215 - accuracy: 0.9566 - val_loss: 0.4290 - val_accuracy: 0.8486 - 3s/epoch - 4ms/step\n",
            "Epoch 12/30\n",
            "625/625 - 3s - loss: 0.1096 - accuracy: 0.9624 - val_loss: 0.4699 - val_accuracy: 0.8392 - 3s/epoch - 4ms/step\n",
            "Epoch 13/30\n",
            "625/625 - 3s - loss: 0.1009 - accuracy: 0.9663 - val_loss: 0.4992 - val_accuracy: 0.8356 - 3s/epoch - 4ms/step\n",
            "Epoch 14/30\n",
            "625/625 - 4s - loss: 0.0929 - accuracy: 0.9687 - val_loss: 0.5098 - val_accuracy: 0.8386 - 4s/epoch - 6ms/step\n",
            "Epoch 15/30\n",
            "625/625 - 3s - loss: 0.0847 - accuracy: 0.9723 - val_loss: 0.5268 - val_accuracy: 0.8427 - 3s/epoch - 4ms/step\n",
            "Epoch 16/30\n",
            "625/625 - 3s - loss: 0.0782 - accuracy: 0.9744 - val_loss: 0.5656 - val_accuracy: 0.8347 - 3s/epoch - 4ms/step\n",
            "Epoch 17/30\n",
            "625/625 - 3s - loss: 0.0727 - accuracy: 0.9766 - val_loss: 0.6181 - val_accuracy: 0.8323 - 3s/epoch - 4ms/step\n",
            "Epoch 18/30\n",
            "625/625 - 3s - loss: 0.0660 - accuracy: 0.9792 - val_loss: 0.6179 - val_accuracy: 0.8320 - 3s/epoch - 5ms/step\n",
            "Epoch 19/30\n",
            "625/625 - 3s - loss: 0.0610 - accuracy: 0.9809 - val_loss: 0.6517 - val_accuracy: 0.8308 - 3s/epoch - 5ms/step\n",
            "Epoch 20/30\n",
            "625/625 - 3s - loss: 0.0552 - accuracy: 0.9837 - val_loss: 0.6853 - val_accuracy: 0.8296 - 3s/epoch - 4ms/step\n",
            "Epoch 21/30\n",
            "625/625 - 3s - loss: 0.0516 - accuracy: 0.9840 - val_loss: 0.7173 - val_accuracy: 0.8281 - 3s/epoch - 4ms/step\n",
            "Epoch 22/30\n",
            "625/625 - 3s - loss: 0.0476 - accuracy: 0.9861 - val_loss: 0.7521 - val_accuracy: 0.8261 - 3s/epoch - 4ms/step\n",
            "Epoch 23/30\n",
            "625/625 - 4s - loss: 0.0431 - accuracy: 0.9870 - val_loss: 0.8094 - val_accuracy: 0.8235 - 4s/epoch - 6ms/step\n",
            "Epoch 24/30\n",
            "625/625 - 3s - loss: 0.0397 - accuracy: 0.9885 - val_loss: 0.8648 - val_accuracy: 0.8199 - 3s/epoch - 4ms/step\n",
            "Epoch 25/30\n",
            "625/625 - 3s - loss: 0.0371 - accuracy: 0.9894 - val_loss: 0.9312 - val_accuracy: 0.8185 - 3s/epoch - 4ms/step\n",
            "Epoch 26/30\n",
            "625/625 - 3s - loss: 0.0341 - accuracy: 0.9902 - val_loss: 0.9016 - val_accuracy: 0.8182 - 3s/epoch - 4ms/step\n",
            "Epoch 27/30\n",
            "625/625 - 4s - loss: 0.0323 - accuracy: 0.9908 - val_loss: 0.9898 - val_accuracy: 0.8165 - 4s/epoch - 6ms/step\n",
            "Epoch 28/30\n",
            "625/625 - 3s - loss: 0.0301 - accuracy: 0.9915 - val_loss: 1.0010 - val_accuracy: 0.8179 - 3s/epoch - 4ms/step\n",
            "Epoch 29/30\n",
            "625/625 - 3s - loss: 0.0278 - accuracy: 0.9920 - val_loss: 1.0520 - val_accuracy: 0.8144 - 3s/epoch - 4ms/step\n",
            "Epoch 30/30\n",
            "625/625 - 3s - loss: 0.0248 - accuracy: 0.9936 - val_loss: 1.2185 - val_accuracy: 0.8094 - 3s/epoch - 4ms/step\n"
          ]
        }
      ],
      "source": [
        "num_epochs = 30\n",
        "history = model.fit(training_padded, training_labels, epochs=num_epochs, validation_data=(testing_padded, testing_labels), verbose=2)"
      ]
    },
    {
      "cell_type": "code",
      "execution_count": null,
      "metadata": {
        "id": "2HYfBKXjkmU8",
        "colab": {
          "base_uri": "https://localhost:8080/",
          "height": 881
        },
        "outputId": "beb2df00-1102-41db-dc97-aff00e4ba9c6"
      },
      "outputs": [
        {
          "output_type": "display_data",
          "data": {
            "text/plain": [
              "<Figure size 640x480 with 1 Axes>"
            ],
            "image/png": "[encoded data removed]"
          },
          "metadata": {}
        },
        {
          "output_type": "display_data",
          "data": {
            "text/plain": [
              "<Figure size 640x480 with 1 Axes>"
            ],
            "image/png": "[encoded data removed]"
          },
          "metadata": {}
        }
      ],
      "source": [
        "import matplotlib.pyplot as plt\n",
        "\n",
        "\n",
        "def plot_graphs(history, string):\n",
        "  plt.plot(history.history[string])\n",
        "  plt.plot(history.history['val_'+string])\n",
        "  plt.xlabel(\"Epochs\")\n",
        "  plt.ylabel(string)\n",
        "  plt.legend([string, 'val_'+string])\n",
        "  plt.show()\n",
        "\n",
        "plot_graphs(history, \"accuracy\")\n",
        "plot_graphs(history, \"loss\")"
      ]
    },
    {
      "cell_type": "code",
      "execution_count": null,
      "metadata": {
        "id": "7SBdAZAenvzL",
        "colab": {
          "base_uri": "https://localhost:8080/"
        },
        "outputId": "15b5d58e-40e2-40fe-c4b1-684723e1da2b"
      },
      "outputs": [
        {
          "output_type": "stream",
          "name": "stdout",
          "text": [
            "former <OOV> store clerk sues over secret 'black <OOV> for minority shoppers ? ? ? ? ? ? ? ? ? ? ? ? ? ? ? ? ? ? ? ? ? ? ? ? ? ? ? ? ? ? ? ? ? ? ? ? ? ? ? ? ? ? ? ? ? ? ? ? ? ? ? ? ? ? ? ? ? ? ? ? ? ? ? ? ? ? ? ? ? ? ? ? ? ? ? ? ? ? ? ? ? ? ? ? ? ? ? ?\n",
            "mom starting to fear son's web series closest thing she will have to grandchild\n",
            "1\n"
          ]
        }
      ],
      "source": [
        "reverse_word_index = dict([(value, key) for (key, value) in word_index.items()])\n",
        "\n",
        "def decode_sentence(text):\n",
        "    return ' '.join([reverse_word_index.get(i, '?') for i in text])\n",
        "\n",
        "print(decode_sentence(training_padded[0]))\n",
        "print(training_sentences[2])\n",
        "print(labels[2])"
      ]
    },
    {
      "cell_type": "code",
      "execution_count": null,
      "metadata": {
        "id": "c9MqihtEkzQ9",
        "colab": {
          "base_uri": "https://localhost:8080/"
        },
        "outputId": "6a8d262f-c02a-43ee-e1df-831aecfd7a54"
      },
      "outputs": [
        {
          "output_type": "stream",
          "name": "stdout",
          "text": [
            "(10000, 16)\n"
          ]
        }
      ],
      "source": [
        "e = model.layers[0]\n",
        "weights = e.get_weights()[0]\n",
        "print(weights.shape) # shape: (vocab_size, embedding_dim)\n"
      ]
    },
    {
      "cell_type": "code",
      "execution_count": null,
      "metadata": {
        "id": "LoBXVffknldU"
      },
      "outputs": [],
      "source": [
        "import io\n",
        "\n",
        "out_v = io.open('vecs.tsv', 'w', encoding='utf-8')\n",
        "out_m = io.open('meta.tsv', 'w', encoding='utf-8')\n",
        "for word_num in range(1, vocab_size):\n",
        "  word = reverse_word_index[word_num]\n",
        "  embeddings = weights[word_num]\n",
        "  out_m.write(word + \"\\n\")\n",
        "  out_v.write('\\t'.join([str(x) for x in embeddings]) + \"\\n\")\n",
        "out_v.close()\n",
        "out_m.close()"
      ]
    },
    {
      "cell_type": "code",
      "execution_count": null,
      "metadata": {
        "id": "U4eZ5HtVnnEE",
        "colab": {
          "base_uri": "https://localhost:8080/",
          "height": 17
        },
        "outputId": "bce33c9e-6a32-4d49-cdef-3b865311bced"
      },
      "outputs": [
        {
          "output_type": "display_data",
          "data": {
            "text/plain": [
              "<IPython.core.display.Javascript object>"
            ],
            "application/javascript": [
              "\n",
              "    async function download(id, filename, size) {\n",
              "      if (!google.colab.kernel.accessAllowed) {\n",
              "        return;\n",
              "      }\n",
              "      const div = document.createElement('div');\n",
              "      const label = document.createElement('label');\n",
              "      label.textContent = `Downloading \"${filename}\": `;\n",
              "      div.appendChild(label);\n",
              "      const progress = document.createElement('progress');\n",
              "      progress.max = size;\n",
              "      div.appendChild(progress);\n",
              "      document.body.appendChild(div);\n",
              "\n",
              "      const buffers = [];\n",
              "      let downloaded = 0;\n",
              "\n",
              "      const channel = await google.colab.kernel.comms.open(id);\n",
              "      // Send a message to notify the kernel that we're ready.\n",
              "      channel.send({})\n",
              "\n",
              "      for await (const message of channel.messages) {\n",
              "        // Send a message to notify the kernel that we're ready.\n",
              "        channel.send({})\n",
              "        if (message.buffers) {\n",
              "          for (const buffer of message.buffers) {\n",
              "            buffers.push(buffer);\n",
              "            downloaded += buffer.byteLength;\n",
              "            progress.value = downloaded;\n",
              "          }\n",
              "        }\n",
              "      }\n",
              "      const blob = new Blob(buffers, {type: 'application/binary'});\n",
              "      const a = document.createElement('a');\n",
              "      a.href = window.URL.createObjectURL(blob);\n",
              "      a.download = filename;\n",
              "      div.appendChild(a);\n",
              "      a.click();\n",
              "      div.remove();\n",
              "    }\n",
              "  "
            ]
          },
          "metadata": {}
        },
        {
          "output_type": "display_data",
          "data": {
            "text/plain": [
              "<IPython.core.display.Javascript object>"
            ],
            "application/javascript": [
              "download(\"download_58e97514-5231-435d-a4c9-9fc814aedfd5\", \"vecs.tsv\", 1810494)"
            ]
          },
          "metadata": {}
        },
        {
          "output_type": "display_data",
          "data": {
            "text/plain": [
              "<IPython.core.display.Javascript object>"
            ],
            "application/javascript": [
              "\n",
              "    async function download(id, filename, size) {\n",
              "      if (!google.colab.kernel.accessAllowed) {\n",
              "        return;\n",
              "      }\n",
              "      const div = document.createElement('div');\n",
              "      const label = document.createElement('label');\n",
              "      label.textContent = `Downloading \"${filename}\": `;\n",
              "      div.appendChild(label);\n",
              "      const progress = document.createElement('progress');\n",
              "      progress.max = size;\n",
              "      div.appendChild(progress);\n",
              "      document.body.appendChild(div);\n",
              "\n",
              "      const buffers = [];\n",
              "      let downloaded = 0;\n",
              "\n",
              "      const channel = await google.colab.kernel.comms.open(id);\n",
              "      // Send a message to notify the kernel that we're ready.\n",
              "      channel.send({})\n",
              "\n",
              "      for await (const message of channel.messages) {\n",
              "        // Send a message to notify the kernel that we're ready.\n",
              "        channel.send({})\n",
              "        if (message.buffers) {\n",
              "          for (const buffer of message.buffers) {\n",
              "            buffers.push(buffer);\n",
              "            downloaded += buffer.byteLength;\n",
              "            progress.value = downloaded;\n",
              "          }\n",
              "        }\n",
              "      }\n",
              "      const blob = new Blob(buffers, {type: 'application/binary'});\n",
              "      const a = document.createElement('a');\n",
              "      a.href = window.URL.createObjectURL(blob);\n",
              "      a.download = filename;\n",
              "      div.appendChild(a);\n",
              "      a.click();\n",
              "      div.remove();\n",
              "    }\n",
              "  "
            ]
          },
          "metadata": {}
        },
        {
          "output_type": "display_data",
          "data": {
            "text/plain": [
              "<IPython.core.display.Javascript object>"
            ],
            "application/javascript": [
              "download(\"download_7d053a93-5c28-4e6c-bb6f-2fd248452a19\", \"meta.tsv\", 75974)"
            ]
          },
          "metadata": {}
        }
      ],
      "source": [
        "try:\n",
        "  from google.colab import files\n",
        "except ImportError:\n",
        "  pass\n",
        "else:\n",
        "  files.download('vecs.tsv')\n",
        "  files.download('meta.tsv')"
      ]
    },
    {
      "cell_type": "markdown",
      "source": [
        "**0 : Is sarcastic.**\n",
        "\n",
        "\n",
        "**1 : Is not Sarcastic**"
      ],
      "metadata": {
        "id": "aE1PXFbwqeoT"
      }
    },
    {
      "cell_type": "code",
      "execution_count": null,
      "metadata": {
        "id": "cG8-ArY-qDcz",
        "colab": {
          "base_uri": "https://localhost:8080/"
        },
        "outputId": "cb52d459-9e50-48fe-8210-8f991a0ce0af"
      },
      "outputs": [
        {
          "output_type": "stream",
          "name": "stdout",
          "text": [
            "1/1 [==============================] - 0s 97ms/step\n",
            "[[4.5408213e-01]\n",
            " [9.9571946e-07]]\n"
          ]
        }
      ],
      "source": [
        "sentence = [\"granny starting to fear spiders in the garden might be real\", \"game of thrones season finale showing this sunday night\"]\n",
        "sequences = tokenizer.texts_to_sequences(sentence)\n",
        "padded = pad_sequences(sequences, maxlen=max_length, padding=padding_type, truncating=trunc_type)\n",
        "print(model.predict(padded))"
      ]
    }
  ]
}